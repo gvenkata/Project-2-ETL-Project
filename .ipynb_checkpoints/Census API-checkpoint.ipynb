{
 "cells": [
  {
   "cell_type": "code",
   "execution_count": 1,
   "metadata": {},
   "outputs": [],
   "source": [
    "import matplotlib.pyplot as plt\n",
    "import pandas as pd\n",
    "import numpy as np\n",
    "import requests\n",
    "import time\n",
    "import json"
   ]
  },
  {
   "cell_type": "code",
   "execution_count": 2,
   "metadata": {},
   "outputs": [
    {
     "data": {
      "text/html": [
       "<div>\n",
       "<style scoped>\n",
       "    .dataframe tbody tr th:only-of-type {\n",
       "        vertical-align: middle;\n",
       "    }\n",
       "\n",
       "    .dataframe tbody tr th {\n",
       "        vertical-align: top;\n",
       "    }\n",
       "\n",
       "    .dataframe thead th {\n",
       "        text-align: right;\n",
       "    }\n",
       "</style>\n",
       "<table border=\"1\" class=\"dataframe\">\n",
       "  <thead>\n",
       "    <tr style=\"text-align: right;\">\n",
       "      <th></th>\n",
       "      <th>Zip Code</th>\n",
       "      <th>District</th>\n",
       "    </tr>\n",
       "  </thead>\n",
       "  <tbody>\n",
       "    <tr>\n",
       "      <th>0</th>\n",
       "      <td>2108</td>\n",
       "      <td>Boston</td>\n",
       "    </tr>\n",
       "    <tr>\n",
       "      <th>1</th>\n",
       "      <td>2109</td>\n",
       "      <td>Boston</td>\n",
       "    </tr>\n",
       "    <tr>\n",
       "      <th>2</th>\n",
       "      <td>2110</td>\n",
       "      <td>Boston</td>\n",
       "    </tr>\n",
       "    <tr>\n",
       "      <th>3</th>\n",
       "      <td>2111</td>\n",
       "      <td>Boston</td>\n",
       "    </tr>\n",
       "    <tr>\n",
       "      <th>4</th>\n",
       "      <td>2112</td>\n",
       "      <td>Boston</td>\n",
       "    </tr>\n",
       "    <tr>\n",
       "      <th>5</th>\n",
       "      <td>2113</td>\n",
       "      <td>Boston</td>\n",
       "    </tr>\n",
       "    <tr>\n",
       "      <th>6</th>\n",
       "      <td>2114</td>\n",
       "      <td>Boston</td>\n",
       "    </tr>\n",
       "    <tr>\n",
       "      <th>7</th>\n",
       "      <td>2115</td>\n",
       "      <td>Boston</td>\n",
       "    </tr>\n",
       "    <tr>\n",
       "      <th>8</th>\n",
       "      <td>2116</td>\n",
       "      <td>Boston</td>\n",
       "    </tr>\n",
       "    <tr>\n",
       "      <th>9</th>\n",
       "      <td>2117</td>\n",
       "      <td>Boston</td>\n",
       "    </tr>\n",
       "    <tr>\n",
       "      <th>10</th>\n",
       "      <td>2118</td>\n",
       "      <td>Roxbury</td>\n",
       "    </tr>\n",
       "    <tr>\n",
       "      <th>11</th>\n",
       "      <td>2119</td>\n",
       "      <td>Roxbury</td>\n",
       "    </tr>\n",
       "    <tr>\n",
       "      <th>12</th>\n",
       "      <td>2120</td>\n",
       "      <td>Roxbury</td>\n",
       "    </tr>\n",
       "    <tr>\n",
       "      <th>13</th>\n",
       "      <td>2121</td>\n",
       "      <td>Dorchester</td>\n",
       "    </tr>\n",
       "    <tr>\n",
       "      <th>14</th>\n",
       "      <td>2122</td>\n",
       "      <td>Dorchester</td>\n",
       "    </tr>\n",
       "    <tr>\n",
       "      <th>15</th>\n",
       "      <td>2123</td>\n",
       "      <td>Boston</td>\n",
       "    </tr>\n",
       "    <tr>\n",
       "      <th>16</th>\n",
       "      <td>2124</td>\n",
       "      <td>Dorchester</td>\n",
       "    </tr>\n",
       "    <tr>\n",
       "      <th>17</th>\n",
       "      <td>2125</td>\n",
       "      <td>Dorchester</td>\n",
       "    </tr>\n",
       "    <tr>\n",
       "      <th>18</th>\n",
       "      <td>2126</td>\n",
       "      <td>Mattapan</td>\n",
       "    </tr>\n",
       "    <tr>\n",
       "      <th>19</th>\n",
       "      <td>2127</td>\n",
       "      <td>South Boston</td>\n",
       "    </tr>\n",
       "    <tr>\n",
       "      <th>20</th>\n",
       "      <td>2128</td>\n",
       "      <td>East Boston</td>\n",
       "    </tr>\n",
       "    <tr>\n",
       "      <th>21</th>\n",
       "      <td>2129</td>\n",
       "      <td>Charlestown</td>\n",
       "    </tr>\n",
       "    <tr>\n",
       "      <th>22</th>\n",
       "      <td>2130</td>\n",
       "      <td>Jamaica Plain</td>\n",
       "    </tr>\n",
       "    <tr>\n",
       "      <th>23</th>\n",
       "      <td>2131</td>\n",
       "      <td>Roslindale</td>\n",
       "    </tr>\n",
       "    <tr>\n",
       "      <th>24</th>\n",
       "      <td>2132</td>\n",
       "      <td>West Roxbury</td>\n",
       "    </tr>\n",
       "    <tr>\n",
       "      <th>25</th>\n",
       "      <td>2133</td>\n",
       "      <td>Boston</td>\n",
       "    </tr>\n",
       "    <tr>\n",
       "      <th>26</th>\n",
       "      <td>2134</td>\n",
       "      <td>Allston</td>\n",
       "    </tr>\n",
       "    <tr>\n",
       "      <th>27</th>\n",
       "      <td>2135</td>\n",
       "      <td>Brighton</td>\n",
       "    </tr>\n",
       "    <tr>\n",
       "      <th>28</th>\n",
       "      <td>2136</td>\n",
       "      <td>Hyde Park</td>\n",
       "    </tr>\n",
       "    <tr>\n",
       "      <th>29</th>\n",
       "      <td>2137</td>\n",
       "      <td>Hyde Park</td>\n",
       "    </tr>\n",
       "  </tbody>\n",
       "</table>\n",
       "</div>"
      ],
      "text/plain": [
       "    Zip Code        District\n",
       "0        2108         Boston\n",
       "1        2109         Boston\n",
       "2        2110         Boston\n",
       "3        2111         Boston\n",
       "4        2112         Boston\n",
       "5        2113         Boston\n",
       "6        2114         Boston\n",
       "7        2115         Boston\n",
       "8        2116         Boston\n",
       "9        2117         Boston\n",
       "10       2118        Roxbury\n",
       "11       2119        Roxbury\n",
       "12       2120        Roxbury\n",
       "13       2121     Dorchester\n",
       "14       2122     Dorchester\n",
       "15       2123         Boston\n",
       "16       2124     Dorchester\n",
       "17       2125     Dorchester\n",
       "18       2126       Mattapan\n",
       "19       2127   South Boston\n",
       "20       2128    East Boston\n",
       "21       2129    Charlestown\n",
       "22       2130  Jamaica Plain\n",
       "23       2131    Roslindale \n",
       "24       2132   West Roxbury\n",
       "25       2133         Boston\n",
       "26       2134        Allston\n",
       "27       2135       Brighton\n",
       "28       2136      Hyde Park\n",
       "29       2137      Hyde Park"
      ]
     },
     "execution_count": 2,
     "metadata": {},
     "output_type": "execute_result"
    }
   ],
   "source": [
    "zip_df = pd.read_csv('Boston_ZipCodes.csv')\n",
    "zip_df"
   ]
  },
  {
   "cell_type": "code",
   "execution_count": 9,
   "metadata": {},
   "outputs": [
    {
     "data": {
      "text/plain": [
       "Index(['zip_code', 'district'], dtype='object')"
      ]
     },
     "execution_count": 9,
     "metadata": {},
     "output_type": "execute_result"
    }
   ],
   "source": [
    "zip_df.columns\n",
    "zip_df.columns = zip_df.columns.str.strip().str.lower().str.replace(' ', '_').str.replace('(', '').str.replace(')', '')\n",
    "zip_df.columns"
   ]
  },
  {
   "cell_type": "code",
   "execution_count": 15,
   "metadata": {},
   "outputs": [
    {
     "data": {
      "text/plain": [
       "['Boston',\n",
       " 'Boston',\n",
       " 'Boston',\n",
       " 'Boston',\n",
       " 'Boston',\n",
       " 'Boston',\n",
       " 'Boston',\n",
       " 'Boston',\n",
       " 'Boston',\n",
       " 'Boston',\n",
       " 'Roxbury',\n",
       " 'Roxbury',\n",
       " 'Roxbury',\n",
       " 'Dorchester',\n",
       " 'Dorchester',\n",
       " 'Boston',\n",
       " 'Dorchester',\n",
       " 'Dorchester',\n",
       " 'Mattapan',\n",
       " 'South Boston',\n",
       " 'East Boston',\n",
       " 'Charlestown',\n",
       " 'Jamaica Plain',\n",
       " 'Roslindale ',\n",
       " 'West Roxbury',\n",
       " 'Boston',\n",
       " 'Allston',\n",
       " 'Brighton',\n",
       " 'Hyde Park',\n",
       " 'Hyde Park']"
      ]
     },
     "execution_count": 15,
     "metadata": {},
     "output_type": "execute_result"
    }
   ],
   "source": [
    "dist_list = zip_df['district'].tolist()\n",
    "dist_list"
   ]
  },
  {
   "cell_type": "code",
   "execution_count": 10,
   "metadata": {},
   "outputs": [
    {
     "data": {
      "text/plain": [
       "[2108,\n",
       " 2109,\n",
       " 2110,\n",
       " 2111,\n",
       " 2112,\n",
       " 2113,\n",
       " 2114,\n",
       " 2115,\n",
       " 2116,\n",
       " 2117,\n",
       " 2118,\n",
       " 2119,\n",
       " 2120,\n",
       " 2121,\n",
       " 2122,\n",
       " 2123,\n",
       " 2124,\n",
       " 2125,\n",
       " 2126,\n",
       " 2127,\n",
       " 2128,\n",
       " 2129,\n",
       " 2130,\n",
       " 2131,\n",
       " 2132,\n",
       " 2133,\n",
       " 2134,\n",
       " 2135,\n",
       " 2136,\n",
       " 2137]"
      ]
     },
     "execution_count": 10,
     "metadata": {},
     "output_type": "execute_result"
    }
   ],
   "source": [
    "zip_list = zip_df['zip_code'].tolist()\n",
    "zip_list"
   ]
  },
  {
   "cell_type": "code",
   "execution_count": 14,
   "metadata": {},
   "outputs": [
    {
     "name": "stdout",
     "output_type": "stream",
     "text": [
      "https://api.census.gov/data/2017/acs/acs5?key=9a52ef9938baee032bc5769ef064a1a1fd9f7332&get=B01001A_001E&for=zip%20code%20tabulation%20area:2108\n",
      "https://api.census.gov/data/2017/acs/acs5?key=9a52ef9938baee032bc5769ef064a1a1fd9f7332&get=B01001A_001E&for=zip%20code%20tabulation%20area:2109\n",
      "https://api.census.gov/data/2017/acs/acs5?key=9a52ef9938baee032bc5769ef064a1a1fd9f7332&get=B01001A_001E&for=zip%20code%20tabulation%20area:2110\n",
      "https://api.census.gov/data/2017/acs/acs5?key=9a52ef9938baee032bc5769ef064a1a1fd9f7332&get=B01001A_001E&for=zip%20code%20tabulation%20area:2111\n",
      "https://api.census.gov/data/2017/acs/acs5?key=9a52ef9938baee032bc5769ef064a1a1fd9f7332&get=B01001A_001E&for=zip%20code%20tabulation%20area:2112\n",
      "https://api.census.gov/data/2017/acs/acs5?key=9a52ef9938baee032bc5769ef064a1a1fd9f7332&get=B01001A_001E&for=zip%20code%20tabulation%20area:2113\n",
      "https://api.census.gov/data/2017/acs/acs5?key=9a52ef9938baee032bc5769ef064a1a1fd9f7332&get=B01001A_001E&for=zip%20code%20tabulation%20area:2114\n",
      "https://api.census.gov/data/2017/acs/acs5?key=9a52ef9938baee032bc5769ef064a1a1fd9f7332&get=B01001A_001E&for=zip%20code%20tabulation%20area:2115\n",
      "https://api.census.gov/data/2017/acs/acs5?key=9a52ef9938baee032bc5769ef064a1a1fd9f7332&get=B01001A_001E&for=zip%20code%20tabulation%20area:2116\n",
      "https://api.census.gov/data/2017/acs/acs5?key=9a52ef9938baee032bc5769ef064a1a1fd9f7332&get=B01001A_001E&for=zip%20code%20tabulation%20area:2117\n",
      "https://api.census.gov/data/2017/acs/acs5?key=9a52ef9938baee032bc5769ef064a1a1fd9f7332&get=B01001A_001E&for=zip%20code%20tabulation%20area:2118\n",
      "https://api.census.gov/data/2017/acs/acs5?key=9a52ef9938baee032bc5769ef064a1a1fd9f7332&get=B01001A_001E&for=zip%20code%20tabulation%20area:2119\n",
      "https://api.census.gov/data/2017/acs/acs5?key=9a52ef9938baee032bc5769ef064a1a1fd9f7332&get=B01001A_001E&for=zip%20code%20tabulation%20area:2120\n",
      "https://api.census.gov/data/2017/acs/acs5?key=9a52ef9938baee032bc5769ef064a1a1fd9f7332&get=B01001A_001E&for=zip%20code%20tabulation%20area:2121\n",
      "https://api.census.gov/data/2017/acs/acs5?key=9a52ef9938baee032bc5769ef064a1a1fd9f7332&get=B01001A_001E&for=zip%20code%20tabulation%20area:2122\n",
      "https://api.census.gov/data/2017/acs/acs5?key=9a52ef9938baee032bc5769ef064a1a1fd9f7332&get=B01001A_001E&for=zip%20code%20tabulation%20area:2123\n",
      "https://api.census.gov/data/2017/acs/acs5?key=9a52ef9938baee032bc5769ef064a1a1fd9f7332&get=B01001A_001E&for=zip%20code%20tabulation%20area:2124\n",
      "https://api.census.gov/data/2017/acs/acs5?key=9a52ef9938baee032bc5769ef064a1a1fd9f7332&get=B01001A_001E&for=zip%20code%20tabulation%20area:2125\n",
      "https://api.census.gov/data/2017/acs/acs5?key=9a52ef9938baee032bc5769ef064a1a1fd9f7332&get=B01001A_001E&for=zip%20code%20tabulation%20area:2126\n",
      "https://api.census.gov/data/2017/acs/acs5?key=9a52ef9938baee032bc5769ef064a1a1fd9f7332&get=B01001A_001E&for=zip%20code%20tabulation%20area:2127\n",
      "https://api.census.gov/data/2017/acs/acs5?key=9a52ef9938baee032bc5769ef064a1a1fd9f7332&get=B01001A_001E&for=zip%20code%20tabulation%20area:2128\n",
      "https://api.census.gov/data/2017/acs/acs5?key=9a52ef9938baee032bc5769ef064a1a1fd9f7332&get=B01001A_001E&for=zip%20code%20tabulation%20area:2129\n",
      "https://api.census.gov/data/2017/acs/acs5?key=9a52ef9938baee032bc5769ef064a1a1fd9f7332&get=B01001A_001E&for=zip%20code%20tabulation%20area:2130\n",
      "https://api.census.gov/data/2017/acs/acs5?key=9a52ef9938baee032bc5769ef064a1a1fd9f7332&get=B01001A_001E&for=zip%20code%20tabulation%20area:2131\n",
      "https://api.census.gov/data/2017/acs/acs5?key=9a52ef9938baee032bc5769ef064a1a1fd9f7332&get=B01001A_001E&for=zip%20code%20tabulation%20area:2132\n",
      "https://api.census.gov/data/2017/acs/acs5?key=9a52ef9938baee032bc5769ef064a1a1fd9f7332&get=B01001A_001E&for=zip%20code%20tabulation%20area:2133\n",
      "https://api.census.gov/data/2017/acs/acs5?key=9a52ef9938baee032bc5769ef064a1a1fd9f7332&get=B01001A_001E&for=zip%20code%20tabulation%20area:2134\n",
      "https://api.census.gov/data/2017/acs/acs5?key=9a52ef9938baee032bc5769ef064a1a1fd9f7332&get=B01001A_001E&for=zip%20code%20tabulation%20area:2135\n",
      "https://api.census.gov/data/2017/acs/acs5?key=9a52ef9938baee032bc5769ef064a1a1fd9f7332&get=B01001A_001E&for=zip%20code%20tabulation%20area:2136\n",
      "https://api.census.gov/data/2017/acs/acs5?key=9a52ef9938baee032bc5769ef064a1a1fd9f7332&get=B01001A_001E&for=zip%20code%20tabulation%20area:2137\n"
     ]
    }
   ],
   "source": [
    "#White\n",
    "white_pop = []\n",
    "for i in range(len(zip_list)):\n",
    "    url=\"https://api.census.gov/data/2017/acs/acs5?key=9a52ef9938baee032bc5769ef064a1a1fd9f7332&get=B01001A_001E&for=zip%20code%20tabulation%20area:\" + str(zip_list[i])\n",
    "    JSONContent = requests.get(url).json()\n",
    "    white_pop.append(JSONContent[1][0])\n",
    "    print(url)\n",
    "\n",
    "white_pop"
   ]
  },
  {
   "cell_type": "code",
   "execution_count": 10,
   "metadata": {},
   "outputs": [
    {
     "data": {
      "text/plain": [
       "'7464'"
      ]
     },
     "execution_count": 10,
     "metadata": {},
     "output_type": "execute_result"
    }
   ],
   "source": [
    "#Black/African American\n",
    "url=\"https://api.census.gov/data/2017/acs/acs5?key=9a52ef9938baee032bc5769ef064a1a1fd9f7332&get=B01001B_001E&for=zip%20code%20tabulation%20area:\" + str(zip_list[i])\n",
    "aa_pop = []\n",
    "\n",
    "for i in range(len(zip_list)):\n",
    "    JSONContent = requests.get(url).json()\n",
    "    aa_pop.append(JSONContent[1][0])\n",
    "    print(url)\n",
    "\n",
    "aa_pop\n"
   ]
  },
  {
   "cell_type": "code",
   "execution_count": 11,
   "metadata": {},
   "outputs": [
    {
     "data": {
      "text/plain": [
       "'19262'"
      ]
     },
     "execution_count": 11,
     "metadata": {},
     "output_type": "execute_result"
    }
   ],
   "source": [
    "#Asian\n",
    "url=\"https://api.census.gov/data/2017/acs/acs5?key=9a52ef9938baee032bc5769ef064a1a1fd9f7332&get=B01001D_001E&for=zip%20code%20tabulation%20area:\" + str(zip_list[i])\n",
    "asian_pop = []\n",
    "\n",
    "for i in range(len(zip_list)):\n",
    "    JSONContent = requests.get(url).json()\n",
    "    asian_pop.append(JSONContent[1][0])\n",
    "    print(url)\n",
    "\n",
    "asian_pop\n"
   ]
  },
  {
   "cell_type": "code",
   "execution_count": 12,
   "metadata": {},
   "outputs": [
    {
     "data": {
      "text/plain": [
       "'32'"
      ]
     },
     "execution_count": 12,
     "metadata": {},
     "output_type": "execute_result"
    }
   ],
   "source": [
    "#Native Hawaiian Pacific Islander\n",
    "url=\"https://api.census.gov/data/2017/acs/acs5?key=9a52ef9938baee032bc5769ef064a1a1fd9f7332&get=B01001E_001E&for=zip%20code%20tabulation%20area:\" + str(zip_list[i])\n",
    "napi_pop = []\n",
    "\n",
    "for i in range(len(zip_list)):\n",
    "    JSONContent = requests.get(url).json()\n",
    "    napi_pop.append(JSONContent[1][0])\n",
    "    print(url)\n",
    "\n",
    "napi_pop"
   ]
  },
  {
   "cell_type": "code",
   "execution_count": 13,
   "metadata": {},
   "outputs": [
    {
     "data": {
      "text/plain": [
       "'2499'"
      ]
     },
     "execution_count": 13,
     "metadata": {},
     "output_type": "execute_result"
    }
   ],
   "source": [
    "#Other\n",
    "url=\"https://api.census.gov/data/2017/acs/acs5?key=9a52ef9938baee032bc5769ef064a1a1fd9f7332&get=B01001E_001E&for=zip%20code%20tabulation%20area:\" + str(zip_list[i])\n",
    "other_pop = []\n",
    "\n",
    "for i in range(len(zip_list)):\n",
    "    JSONContent = requests.get(url).json()\n",
    "    other_pop.append(JSONContent[1][0])\n",
    "    print(url)\n",
    "\n",
    "other_pop\n"
   ]
  },
  {
   "cell_type": "code",
   "execution_count": 14,
   "metadata": {},
   "outputs": [
    {
     "data": {
      "text/plain": [
       "'1759'"
      ]
     },
     "execution_count": 14,
     "metadata": {},
     "output_type": "execute_result"
    }
   ],
   "source": [
    "#Two or More Races\n",
    "url=\"https://api.census.gov/data/2017/acs/acs5?key=9a52ef9938baee032bc5769ef064a1a1fd9f7332&get=B01001G_001E&for=zip%20code%20tabulation%20area:\" + str(zip_list[i])\n",
    "multi_pop = []\n",
    "\n",
    "for i in range(len(zip_list)):\n",
    "    JSONContent = requests.get(url).json()\n",
    "    multi_pop.append(JSONContent[1][0])\n",
    "    print(url)\n",
    "\n",
    "multi_pop\n",
    "\n",
    "\n"
   ]
  }
 ],
 "metadata": {
  "kernelspec": {
   "display_name": "Python 3",
   "language": "python",
   "name": "python3"
  },
  "language_info": {
   "codemirror_mode": {
    "name": "ipython",
    "version": 3
   },
   "file_extension": ".py",
   "mimetype": "text/x-python",
   "name": "python",
   "nbconvert_exporter": "python",
   "pygments_lexer": "ipython3",
   "version": "3.7.3"
  }
 },
 "nbformat": 4,
 "nbformat_minor": 2
}
